{
 "cells": [
  {
   "cell_type": "code",
   "execution_count": 1,
   "metadata": {
    "scrolled": true
   },
   "outputs": [
    {
     "name": "stdout",
     "output_type": "stream",
     "text": [
      "Enter value2\n",
      "val = 2\n"
     ]
    }
   ],
   "source": [
    "val=int(input(\"Enter value\"));\n",
    "print(\"val =\",val);\n",
    "\n"
   ]
  },
  {
   "cell_type": "code",
   "execution_count": null,
   "metadata": {},
   "outputs": [],
   "source": [
    "### Method Defination and return  to square the passed parameter value"
   ]
  },
  {
   "cell_type": "code",
   "execution_count": 2,
   "metadata": {},
   "outputs": [
    {
     "name": "stdout",
     "output_type": "stream",
     "text": [
      "4\n"
     ]
    }
   ],
   "source": [
    "def squareMethod(val):\n",
    "    return val**2\n",
    "\n",
    "\n",
    "print( squareMethod(val))"
   ]
  },
  {
   "cell_type": "code",
   "execution_count": null,
   "metadata": {},
   "outputs": [],
   "source": [
    "### Method to get marks from user and based on marks  tell  grade of student wheter it is A,B OR F\n",
    "\n",
    "###80-90  WE set Grade A\n",
    "\n",
    "### 70-79 or below   we set  B\n",
    "\n",
    "### 70 and below 70 we set F\n"
   ]
  },
  {
   "cell_type": "code",
   "execution_count": 7,
   "metadata": {},
   "outputs": [
    {
     "name": "stdout",
     "output_type": "stream",
     "text": [
      "Enter Marks100\n",
      "You Enterd Wrong marks, 100\n"
     ]
    }
   ],
   "source": [
    "def returnGrade(marks):\n",
    "    if marks >=100:\n",
    "        print(\"You Enterd Wrong marks,\",marks)\n",
    "    elif marks==80:\n",
    "        return \"A\"\n",
    "    elif(marks==79 or marks > 70 and marks <80):\n",
    "        return\"B\"\n",
    "    elif(marks<70):\n",
    "        return \"F\"\n",
    "           \n",
    "marks=int(input(\"Enter Marks\"))       \n",
    "returnGrade(marks)"
   ]
  },
  {
   "cell_type": "code",
   "execution_count": null,
   "metadata": {},
   "outputs": [],
   "source": [
    "####  Method to find minimum in 4 values "
   ]
  },
  {
   "cell_type": "code",
   "execution_count": 11,
   "metadata": {},
   "outputs": [
    {
     "data": {
      "text/plain": [
       "3"
      ]
     },
     "execution_count": 11,
     "metadata": {},
     "output_type": "execute_result"
    }
   ],
   "source": [
    "def findmin(a,b,c,d):\n",
    "    min=a\n",
    "    if(b<min):\n",
    "        min=b\n",
    "    elif(c<min):\n",
    "        min=c\n",
    "    elif(d<min):\n",
    "        min=d\n",
    "    return min\n",
    "\n",
    "findmin(4,3,4,5)"
   ]
  },
  {
   "cell_type": "code",
   "execution_count": null,
   "metadata": {},
   "outputs": [],
   "source": []
  }
 ],
 "metadata": {
  "kernelspec": {
   "display_name": "Python 3",
   "language": "python",
   "name": "python3"
  },
  "language_info": {
   "codemirror_mode": {
    "name": "ipython",
    "version": 3
   },
   "file_extension": ".py",
   "mimetype": "text/x-python",
   "name": "python",
   "nbconvert_exporter": "python",
   "pygments_lexer": "ipython3",
   "version": "3.7.4"
  }
 },
 "nbformat": 4,
 "nbformat_minor": 2
}
