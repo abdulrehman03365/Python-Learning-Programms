{
 "cells": [
  {
   "cell_type": "code",
   "execution_count": null,
   "metadata": {},
   "outputs": [],
   "source": [
    "#### Arrays Python"
   ]
  },
  {
   "cell_type": "code",
   "execution_count": 4,
   "metadata": {},
   "outputs": [
    {
     "name": "stdout",
     "output_type": "stream",
     "text": [
      "value at 0 = 0\n",
      "value at 1 = 1\n",
      "value at 2 = 2\n",
      "value at 3 = 3\n",
      "value at 4 = 4\n",
      "value at 5 = 5\n"
     ]
    }
   ],
   "source": [
    "import array as ar\n",
    "arrays =ar.array('i',[2,3,4,5,6,7]) \n",
    "for index,val in enumerate(arrays):\n",
    "    print (\"value at\", index , \"=\",index)"
   ]
  },
  {
   "cell_type": "code",
   "execution_count": 5,
   "metadata": {},
   "outputs": [],
   "source": [
    "### function to find even and odd in Python array"
   ]
  },
  {
   "cell_type": "code",
   "execution_count": 14,
   "metadata": {},
   "outputs": [
    {
     "name": "stdout",
     "output_type": "stream",
     "text": [
      "even vale at 0 = 2\n",
      "even vale at 2 = 4\n",
      "even vale at 4 = 6\n",
      "\n",
      "\n",
      "odd vale at 1 = 3\n",
      "odd vale at 3 = 5\n",
      "odd vale at 5 = 7\n"
     ]
    }
   ],
   "source": [
    "def evenFinder(arrays):\n",
    "    for index ,val in enumerate(arrays):\n",
    "        if((val%2)==0):\n",
    "                print(\"even vale at\", index,\"=\",val)\n",
    "    print(\"\\n\")\n",
    "\n",
    "def oddFinder(arrays):\n",
    "    for index,val in enumerate(arrays):\n",
    "        if((val%2)!=0):\n",
    "            print(\"odd vale at\", index,\"=\",val)\n",
    "\n",
    "            \n",
    "evenFinder(arrays)\n",
    "oddFinder(arrays)\n"
   ]
  },
  {
   "cell_type": "code",
   "execution_count": null,
   "metadata": {},
   "outputs": [],
   "source": []
  },
  {
   "cell_type": "code",
   "execution_count": null,
   "metadata": {},
   "outputs": [],
   "source": []
  }
 ],
 "metadata": {
  "kernelspec": {
   "display_name": "Python 3",
   "language": "python",
   "name": "python3"
  },
  "language_info": {
   "codemirror_mode": {
    "name": "ipython",
    "version": 3
   },
   "file_extension": ".py",
   "mimetype": "text/x-python",
   "name": "python",
   "nbconvert_exporter": "python",
   "pygments_lexer": "ipython3",
   "version": "3.7.4"
  }
 },
 "nbformat": 4,
 "nbformat_minor": 2
}
